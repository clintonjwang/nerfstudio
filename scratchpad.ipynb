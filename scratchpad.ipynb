{
 "cells": [
  {
   "cell_type": "code",
   "execution_count": 1,
   "metadata": {},
   "outputs": [
    {
     "name": "stdout",
     "output_type": "stream",
     "text": [
      "Jupyter environment detected. Enabling Open3D WebVisualizer.\n",
      "[Open3D INFO] WebRTC GUI backend enabled.\n",
      "[Open3D INFO] WebRTCWindowSystem: HTTP handshake server disabled.\n"
     ]
    }
   ],
   "source": [
    "import sys\n",
    "from dataclasses import dataclass, field\n",
    "from pathlib import Path\n",
    "from typing import List, Optional, Tuple, Union\n",
    "\n",
    "import numpy as np\n",
    "import open3d as o3d\n",
    "import torch\n",
    "import tyro\n",
    "from typing_extensions import Annotated, Literal\n",
    "\n",
    "from nerfstudio.cameras.rays import RayBundle\n",
    "from nerfstudio.exporter import texture_utils, tsdf_utils\n",
    "from nerfstudio.exporter.exporter_utils import (\n",
    "    generate_point_cloud,\n",
    "    get_mesh_from_filename,\n",
    ")\n",
    "from nerfstudio.pipelines.base_pipeline import Pipeline\n",
    "from nerfstudio.utils.eval_utils import eval_setup"
   ]
  },
  {
   "cell_type": "code",
   "execution_count": null,
   "metadata": {},
   "outputs": [],
   "source": [
    "out_dir = Path('/data/vision/polina/users/clintonw/code/kubric/outputs')\n",
    "config_path = out_dir / '0/nerfacto/2022-12-10_163746/config.yml'\n",
    "config, pipeline, checkpoint_path = eval_setup(config_path)"
   ]
  },
  {
   "cell_type": "code",
   "execution_count": 1,
   "metadata": {},
   "outputs": [
    {
     "name": "stdout",
     "output_type": "stream",
     "text": [
      "Jupyter environment detected. Enabling Open3D WebVisualizer.\n",
      "[Open3D INFO] WebRTC GUI backend enabled.\n",
      "[Open3D INFO] WebRTCWindowSystem: HTTP handshake server disabled.\n"
     ]
    }
   ],
   "source": [
    "import glob\n",
    "import os.path as osp\n",
    "import open3d as o3d\n",
    "from os.path import expanduser, expandvars"
   ]
  },
  {
   "cell_type": "code",
   "execution_count": null,
   "metadata": {},
   "outputs": [],
   "source": [
    "\n",
    "for path in glob.glob(expandvars('$NFS/code/kubric/outputs/*/*/*/*')):\n",
    "    #print(osp.dirname(path)+\"/../../\"+osp.basename(path))\n",
    "    os.rename(path, osp.dirname(path)+\"/../../\"+osp.basename(path))\n",
    "for path in glob.glob(expandvars('$NFS/code/kubric/outputs/*/nerfacto')):\n",
    "    os.rmdir(path)"
   ]
  },
  {
   "cell_type": "code",
   "execution_count": 14,
   "metadata": {},
   "outputs": [
    {
     "name": "stdout",
     "output_type": "stream",
     "text": [
      "['/data/vision/polina/users/clintonw/code/kubric/outputs/0/nerfacto/2022-12-10_163746/config.yml']\n"
     ]
    }
   ],
   "source": [
    "print(glob.glob(expandvars('$NFS/code/kubric/outputs/0/*/*/config.yml')))"
   ]
  },
  {
   "cell_type": "code",
   "execution_count": 10,
   "metadata": {},
   "outputs": [
    {
     "name": "stdout",
     "output_type": "stream",
     "text": [
      "\u001b[1;33m[Open3D WARNING] GLFW Error: GLX: Forward compatibility requested but GLX_ARB_create_context_profile is unavailable\u001b[0;m\n",
      "\u001b[1;33m[Open3D WARNING] Failed to create window\u001b[0;m\n",
      "\u001b[1;33m[Open3D WARNING] [DrawGeometries] Failed creating OpenGL window.\u001b[0;m\n"
     ]
    },
    {
     "name": "stderr",
     "output_type": "stream",
     "text": [
      "libGL error: No matching fbConfigs or visuals found\n",
      "libGL error: failed to load driver: swrast\n"
     ]
    }
   ],
   "source": [
    "#cloud = o3d.io.read_point_cloud(expandvars('$NFS/code/kubric/outputs/0/point_cloud.ply'))\n",
    "#o3d.visualization.draw_geometries([cloud])\n",
    "\n",
    "cloud = o3d.io.read_point_cloud(expanduser('~/Downloads/point_cloud.ply'))\n",
    "o3d.visualization.draw_geometries([cloud])"
   ]
  }
 ],
 "metadata": {
  "kernelspec": {
   "display_name": "nerfstudio",
   "language": "python",
   "name": "python3"
  },
  "language_info": {
   "codemirror_mode": {
    "name": "ipython",
    "version": 3
   },
   "file_extension": ".py",
   "mimetype": "text/x-python",
   "name": "python",
   "nbconvert_exporter": "python",
   "pygments_lexer": "ipython3",
   "version": "3.8.15 (default, Nov 24 2022, 15:19:38) \n[GCC 11.2.0]"
  },
  "orig_nbformat": 4,
  "vscode": {
   "interpreter": {
    "hash": "c4862058f27d156e371d689b0c8bf691e23100399406b69d15910fe81b8da8f1"
   }
  }
 },
 "nbformat": 4,
 "nbformat_minor": 2
}
